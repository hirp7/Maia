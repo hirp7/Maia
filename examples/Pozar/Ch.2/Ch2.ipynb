{
 "cells": [
  {
   "cell_type": "code",
   "execution_count": 8,
   "metadata": {},
   "outputs": [],
   "source": [
    "import skrf as rf\n",
    "import numpy as np\n",
    "from skrf.media import DistributedCircuit,Coaxial\n",
    "import matplotlib.pyplot as plt\n"
   ]
  },
  {
   "cell_type": "markdown",
   "metadata": {},
   "source": [
    "Q2.1 Define a transmission line with following per-unit-length parameters: L = 0.5 μH/m, C = 200 pF/m,\n",
    "R = 4.0 Ohm/m, and G = 0.02 S/m, and calculate the propagation constant \\gamma and characteristic impedance Z_0 at 800 MHz. If the line is 30 cm long, what is the attenuation in dB?"
   ]
  },
  {
   "cell_type": "code",
   "execution_count": 9,
   "metadata": {},
   "outputs": [
    {
     "name": "stdout",
     "output_type": "stream",
     "text": [
      "propagation constant gamma [0.54+50.27j],\n",
      "      Characteristic impedance[49.99+0.46j] [Ohm],\n",
      "      loss at 800 MHz is [-1.41] [dB]\n"
     ]
    }
   ],
   "source": [
    "frequency1 = rf.Frequency(0.8,0.8,1,unit='ghz') #define frequency range\n",
    "tl1 = DistributedCircuit(frequency=frequency1, z0=50, C=200e-12, L=0.5e-06, R=4.0, G=0.02)\n",
    "line1 = tl1.line(30e-2,'m') # 30 cm length line \n",
    "\n",
    "print(f'propagation constant gamma {np.round(TL.gamma,2)},\\n\\\n",
    "      Characteristic impedance{np.round(TL.Z0,2)} [Ohm],\\n\\\n",
    "      loss at 800 MHz is {np.round(line.s21.s_db[:,0,0],2)} [dB]')"
   ]
  },
  {
   "cell_type": "markdown",
   "metadata": {},
   "source": [
    "Q2.3 RG-402U semirigid coaxial cable has an inner conductor diameter of 0.91 mm and a dielectric diameter of 3.02 mm. Both conductors are copper, and\n",
    "the dielectric material is Teflon. Compute the R, L, G, and C parameters of this line at 1 GHz, and\n",
    "use these results to find the characteristic impedance and attenuation of the line at 1 GHz. For reference, the manufacturer’s specifications of 50 Ohm is 0.43 dB/m"
   ]
  },
  {
   "cell_type": "code",
   "execution_count": 10,
   "metadata": {},
   "outputs": [
    {
     "name": "stdout",
     "output_type": "stream",
     "text": [
      "Characteristic impedance Z0 = [49.63249219-0.06182456j] [Ohm] \n",
      "Attenuation[-0.37832421] [dB/m]\n"
     ]
    }
   ],
   "source": [
    "frequency2 = rf.Frequency(1,1,1) #1 point at GHz\n",
    "coax1 = Coaxial(frequency=frequency2, z0=None,Dint=0.91e-3, Dout=3.02e-3, epsilon_r=2.1, sigma=5.8e7) #tanD = 0\n",
    "print(f'Characteristic impedance Z0 = {coax1.Z0} [Ohm] \\n\\\n",
    "Attenuation{10*np.log(np.exp(-coax1.alpha))} [dB/m]')"
   ]
  },
  {
   "cell_type": "code",
   "execution_count": null,
   "metadata": {},
   "outputs": [],
   "source": []
  }
 ],
 "metadata": {
  "kernelspec": {
   "display_name": "Python 3 (Spyder)",
   "language": "python3",
   "name": "python3"
  },
  "language_info": {
   "codemirror_mode": {
    "name": "ipython",
    "version": 3
   },
   "file_extension": ".py",
   "mimetype": "text/x-python",
   "name": "python",
   "nbconvert_exporter": "python",
   "pygments_lexer": "ipython3",
   "version": "3.8.3"
  }
 },
 "nbformat": 4,
 "nbformat_minor": 4
}
